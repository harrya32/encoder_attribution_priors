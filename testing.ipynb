{
 "cells": [
  {
   "cell_type": "code",
   "execution_count": 1,
   "metadata": {},
   "outputs": [
    {
     "name": "stdout",
     "output_type": "stream",
     "text": [
      "Requirement already satisfied: captum in /Library/Frameworks/Python.framework/Versions/3.8/lib/python3.8/site-packages (0.7.0)\n",
      "Requirement already satisfied: numpy in /Library/Frameworks/Python.framework/Versions/3.8/lib/python3.8/site-packages (from captum) (1.24.4)\n",
      "Requirement already satisfied: torch>=1.6 in /Library/Frameworks/Python.framework/Versions/3.8/lib/python3.8/site-packages (from captum) (2.0.1)\n",
      "Requirement already satisfied: matplotlib in /Library/Frameworks/Python.framework/Versions/3.8/lib/python3.8/site-packages (from captum) (3.2.1)\n",
      "Requirement already satisfied: tqdm in /Library/Frameworks/Python.framework/Versions/3.8/lib/python3.8/site-packages (from captum) (4.61.0)\n",
      "Requirement already satisfied: sympy in /Library/Frameworks/Python.framework/Versions/3.8/lib/python3.8/site-packages (from torch>=1.6->captum) (1.11.1)\n",
      "Requirement already satisfied: networkx in /Library/Frameworks/Python.framework/Versions/3.8/lib/python3.8/site-packages (from torch>=1.6->captum) (3.0)\n",
      "Requirement already satisfied: filelock in /Library/Frameworks/Python.framework/Versions/3.8/lib/python3.8/site-packages (from torch>=1.6->captum) (3.10.7)\n",
      "Requirement already satisfied: jinja2 in /Library/Frameworks/Python.framework/Versions/3.8/lib/python3.8/site-packages (from torch>=1.6->captum) (3.0.1)\n",
      "Requirement already satisfied: typing-extensions in /Library/Frameworks/Python.framework/Versions/3.8/lib/python3.8/site-packages (from torch>=1.6->captum) (3.10.0.0)\n",
      "Requirement already satisfied: MarkupSafe>=2.0 in /Library/Frameworks/Python.framework/Versions/3.8/lib/python3.8/site-packages (from jinja2->torch>=1.6->captum) (2.0.1)\n",
      "Requirement already satisfied: python-dateutil>=2.1 in /Library/Frameworks/Python.framework/Versions/3.8/lib/python3.8/site-packages (from matplotlib->captum) (2.8.1)\n",
      "Requirement already satisfied: cycler>=0.10 in /Library/Frameworks/Python.framework/Versions/3.8/lib/python3.8/site-packages (from matplotlib->captum) (0.10.0)\n",
      "Requirement already satisfied: kiwisolver>=1.0.1 in /Library/Frameworks/Python.framework/Versions/3.8/lib/python3.8/site-packages (from matplotlib->captum) (1.2.0)\n",
      "Requirement already satisfied: pyparsing!=2.0.4,!=2.1.2,!=2.1.6,>=2.0.1 in /Library/Frameworks/Python.framework/Versions/3.8/lib/python3.8/site-packages (from matplotlib->captum) (2.4.7)\n",
      "Requirement already satisfied: six in /Users/harryamad/Library/Python/3.8/lib/python/site-packages (from cycler>=0.10->matplotlib->captum) (1.14.0)\n",
      "Requirement already satisfied: mpmath>=0.19 in /Library/Frameworks/Python.framework/Versions/3.8/lib/python3.8/site-packages (from sympy->torch>=1.6->captum) (1.3.0)\n",
      "\u001b[33mWARNING: You are using pip version 21.2.1; however, version 23.3.1 is available.\n",
      "You should consider upgrading via the '/Library/Frameworks/Python.framework/Versions/3.8/bin/python3.8 -m pip install --upgrade pip' command.\u001b[0m\n",
      "Note: you may need to restart the kernel to use updated packages.\n",
      "Processing /Users/harryamad/Google Drive/encoder_attribution_priors\n",
      "\u001b[33m  DEPRECATION: A future pip version will change local packages to be built in-place without first copying to a temporary directory. We recommend you use --use-feature=in-tree-build to test your packages with this new behavior before it becomes the default.\n",
      "   pip 21.3 will remove support for this functionality. You can find discussion regarding this at https://github.com/pypa/pip/issues/7555.\u001b[0m\n",
      "Requirement already satisfied: torch in /Library/Frameworks/Python.framework/Versions/3.8/lib/python3.8/site-packages (from lfxai==0.1.1) (2.0.1)\n",
      "Requirement already satisfied: torchvision in /Library/Frameworks/Python.framework/Versions/3.8/lib/python3.8/site-packages (from lfxai==0.1.1) (0.15.2)\n",
      "Requirement already satisfied: captum in /Library/Frameworks/Python.framework/Versions/3.8/lib/python3.8/site-packages (from lfxai==0.1.1) (0.7.0)\n",
      "Requirement already satisfied: hydra-core in /Library/Frameworks/Python.framework/Versions/3.8/lib/python3.8/site-packages (from lfxai==0.1.1) (1.3.2)\n",
      "Requirement already satisfied: numpy in /Library/Frameworks/Python.framework/Versions/3.8/lib/python3.8/site-packages (from lfxai==0.1.1) (1.24.4)\n",
      "Requirement already satisfied: pandas in /Library/Frameworks/Python.framework/Versions/3.8/lib/python3.8/site-packages (from lfxai==0.1.1) (1.3.1)\n",
      "Requirement already satisfied: scikit-image in /Library/Frameworks/Python.framework/Versions/3.8/lib/python3.8/site-packages (from lfxai==0.1.1) (0.21.0)\n",
      "Requirement already satisfied: scikit-learn in /Library/Frameworks/Python.framework/Versions/3.8/lib/python3.8/site-packages (from lfxai==0.1.1) (1.2.2)\n",
      "Requirement already satisfied: scipy in /Library/Frameworks/Python.framework/Versions/3.8/lib/python3.8/site-packages (from lfxai==0.1.1) (1.10.1)\n",
      "Requirement already satisfied: seaborn in /Library/Frameworks/Python.framework/Versions/3.8/lib/python3.8/site-packages (from lfxai==0.1.1) (0.11.1)\n",
      "Requirement already satisfied: tabulate in /Library/Frameworks/Python.framework/Versions/3.8/lib/python3.8/site-packages (from lfxai==0.1.1) (0.9.0)\n",
      "Requirement already satisfied: tqdm in /Library/Frameworks/Python.framework/Versions/3.8/lib/python3.8/site-packages (from lfxai==0.1.1) (4.61.0)\n",
      "Requirement already satisfied: wget in /Library/Frameworks/Python.framework/Versions/3.8/lib/python3.8/site-packages (from lfxai==0.1.1) (3.2)\n",
      "Requirement already satisfied: matplotlib in /Library/Frameworks/Python.framework/Versions/3.8/lib/python3.8/site-packages (from lfxai==0.1.1) (3.2.1)\n",
      "Requirement already satisfied: filelock in /Library/Frameworks/Python.framework/Versions/3.8/lib/python3.8/site-packages (from torch->lfxai==0.1.1) (3.10.7)\n",
      "Requirement already satisfied: jinja2 in /Library/Frameworks/Python.framework/Versions/3.8/lib/python3.8/site-packages (from torch->lfxai==0.1.1) (3.0.1)\n",
      "Requirement already satisfied: sympy in /Library/Frameworks/Python.framework/Versions/3.8/lib/python3.8/site-packages (from torch->lfxai==0.1.1) (1.11.1)\n",
      "Requirement already satisfied: networkx in /Library/Frameworks/Python.framework/Versions/3.8/lib/python3.8/site-packages (from torch->lfxai==0.1.1) (3.0)\n",
      "Requirement already satisfied: typing-extensions in /Library/Frameworks/Python.framework/Versions/3.8/lib/python3.8/site-packages (from torch->lfxai==0.1.1) (3.10.0.0)\n",
      "Requirement already satisfied: antlr4-python3-runtime==4.9.* in /Library/Frameworks/Python.framework/Versions/3.8/lib/python3.8/site-packages (from hydra-core->lfxai==0.1.1) (4.9.3)\n",
      "Requirement already satisfied: importlib-resources in /Library/Frameworks/Python.framework/Versions/3.8/lib/python3.8/site-packages (from hydra-core->lfxai==0.1.1) (6.1.1)\n",
      "Requirement already satisfied: packaging in /Library/Frameworks/Python.framework/Versions/3.8/lib/python3.8/site-packages (from hydra-core->lfxai==0.1.1) (23.2)\n",
      "Requirement already satisfied: omegaconf<2.4,>=2.2 in /Library/Frameworks/Python.framework/Versions/3.8/lib/python3.8/site-packages (from hydra-core->lfxai==0.1.1) (2.3.0)\n",
      "Requirement already satisfied: PyYAML>=5.1.0 in /Library/Frameworks/Python.framework/Versions/3.8/lib/python3.8/site-packages (from omegaconf<2.4,>=2.2->hydra-core->lfxai==0.1.1) (5.4.1)\n",
      "Requirement already satisfied: zipp>=3.1.0 in /Library/Frameworks/Python.framework/Versions/3.8/lib/python3.8/site-packages (from importlib-resources->hydra-core->lfxai==0.1.1) (3.15.0)\n",
      "Requirement already satisfied: MarkupSafe>=2.0 in /Library/Frameworks/Python.framework/Versions/3.8/lib/python3.8/site-packages (from jinja2->torch->lfxai==0.1.1) (2.0.1)\n",
      "Requirement already satisfied: cycler>=0.10 in /Library/Frameworks/Python.framework/Versions/3.8/lib/python3.8/site-packages (from matplotlib->lfxai==0.1.1) (0.10.0)\n",
      "Requirement already satisfied: python-dateutil>=2.1 in /Library/Frameworks/Python.framework/Versions/3.8/lib/python3.8/site-packages (from matplotlib->lfxai==0.1.1) (2.8.1)\n",
      "Requirement already satisfied: kiwisolver>=1.0.1 in /Library/Frameworks/Python.framework/Versions/3.8/lib/python3.8/site-packages (from matplotlib->lfxai==0.1.1) (1.2.0)\n",
      "Requirement already satisfied: pyparsing!=2.0.4,!=2.1.2,!=2.1.6,>=2.0.1 in /Library/Frameworks/Python.framework/Versions/3.8/lib/python3.8/site-packages (from matplotlib->lfxai==0.1.1) (2.4.7)\n",
      "Requirement already satisfied: six in /Users/harryamad/Library/Python/3.8/lib/python/site-packages (from cycler>=0.10->matplotlib->lfxai==0.1.1) (1.14.0)\n",
      "Requirement already satisfied: pytz>=2017.3 in /Library/Frameworks/Python.framework/Versions/3.8/lib/python3.8/site-packages (from pandas->lfxai==0.1.1) (2019.3)\n",
      "Requirement already satisfied: imageio>=2.27 in /Library/Frameworks/Python.framework/Versions/3.8/lib/python3.8/site-packages (from scikit-image->lfxai==0.1.1) (2.31.1)\n",
      "Requirement already satisfied: lazy_loader>=0.2 in /Library/Frameworks/Python.framework/Versions/3.8/lib/python3.8/site-packages (from scikit-image->lfxai==0.1.1) (0.3)\n",
      "Requirement already satisfied: tifffile>=2022.8.12 in /Library/Frameworks/Python.framework/Versions/3.8/lib/python3.8/site-packages (from scikit-image->lfxai==0.1.1) (2023.7.10)\n",
      "Requirement already satisfied: PyWavelets>=1.1.1 in /Library/Frameworks/Python.framework/Versions/3.8/lib/python3.8/site-packages (from scikit-image->lfxai==0.1.1) (1.4.1)\n",
      "Requirement already satisfied: pillow>=9.0.1 in /Library/Frameworks/Python.framework/Versions/3.8/lib/python3.8/site-packages (from scikit-image->lfxai==0.1.1) (9.5.0)\n",
      "Requirement already satisfied: joblib>=1.1.1 in /Library/Frameworks/Python.framework/Versions/3.8/lib/python3.8/site-packages (from scikit-learn->lfxai==0.1.1) (1.2.0)\n",
      "Requirement already satisfied: threadpoolctl>=2.0.0 in /Library/Frameworks/Python.framework/Versions/3.8/lib/python3.8/site-packages (from scikit-learn->lfxai==0.1.1) (2.1.0)\n",
      "Requirement already satisfied: mpmath>=0.19 in /Library/Frameworks/Python.framework/Versions/3.8/lib/python3.8/site-packages (from sympy->torch->lfxai==0.1.1) (1.3.0)\n",
      "Requirement already satisfied: requests in /Library/Frameworks/Python.framework/Versions/3.8/lib/python3.8/site-packages (from torchvision->lfxai==0.1.1) (2.23.0)\n",
      "Requirement already satisfied: certifi>=2017.4.17 in /Library/Frameworks/Python.framework/Versions/3.8/lib/python3.8/site-packages (from requests->torchvision->lfxai==0.1.1) (2020.4.5.1)\n",
      "Requirement already satisfied: urllib3!=1.25.0,!=1.25.1,<1.26,>=1.21.1 in /Library/Frameworks/Python.framework/Versions/3.8/lib/python3.8/site-packages (from requests->torchvision->lfxai==0.1.1) (1.25.8)\n",
      "Requirement already satisfied: chardet<4,>=3.0.2 in /Library/Frameworks/Python.framework/Versions/3.8/lib/python3.8/site-packages (from requests->torchvision->lfxai==0.1.1) (3.0.4)\n",
      "Requirement already satisfied: idna<3,>=2.5 in /Library/Frameworks/Python.framework/Versions/3.8/lib/python3.8/site-packages (from requests->torchvision->lfxai==0.1.1) (2.9)\n",
      "Building wheels for collected packages: lfxai\n",
      "  Building wheel for lfxai (setup.py) ... \u001b[?25ldone\n",
      "\u001b[?25h  Created wheel for lfxai: filename=lfxai-0.1.1-py3-none-any.whl size=30952 sha256=61c571aa3a8f8f7d597cd1caa520d5dec774789a2b809de984d78dc80162cc5a\n",
      "  Stored in directory: /private/var/folders/v1/8lvgykdd7jz1mgwv6lgglt540000gn/T/pip-ephem-wheel-cache-rki823gu/wheels/d8/ad/fa/7f23a7351b78cbce54840af97b785c69f88ecbff5d524953e6\n",
      "Successfully built lfxai\n",
      "Installing collected packages: lfxai\n",
      "  Attempting uninstall: lfxai\n",
      "    Found existing installation: lfxai 0.1.1\n",
      "    Uninstalling lfxai-0.1.1:\n",
      "      Successfully uninstalled lfxai-0.1.1\n",
      "Successfully installed lfxai-0.1.1\n",
      "\u001b[33mWARNING: You are using pip version 21.2.1; however, version 23.3.1 is available.\n",
      "You should consider upgrading via the '/Library/Frameworks/Python.framework/Versions/3.8/bin/python3.8 -m pip install --upgrade pip' command.\u001b[0m\n",
      "Note: you may need to restart the kernel to use updated packages.\n"
     ]
    }
   ],
   "source": [
    "%pip install captum\n",
    "%pip install '.'"
   ]
  },
  {
   "cell_type": "code",
   "execution_count": 2,
   "metadata": {},
   "outputs": [],
   "source": [
    "import argparse\n",
    "import csv\n",
    "import itertools\n",
    "import logging\n",
    "import os\n",
    "from tqdm import tqdm\n",
    "from pathlib import Path\n",
    "\n",
    "import matplotlib.pyplot as plt\n",
    "import numpy as np\n",
    "import pandas as pd\n",
    "import seaborn as sns\n",
    "import torch\n",
    "import torchvision\n",
    "from captum.attr import GradientShap, IntegratedGradients, Saliency\n",
    "from scipy.stats import spearmanr\n",
    "from torch.utils.data import DataLoader, RandomSampler, Subset\n",
    "from torchvision import transforms\n",
    "\n",
    "from lfxai.explanations.examples import (\n",
    "    InfluenceFunctions,\n",
    "    NearestNeighbours,\n",
    "    SimplEx,\n",
    "    TracIn,\n",
    ")\n",
    "from lfxai.explanations.features import attribute_auxiliary, attribute_individual_dim, tensor_attribution, attribute_training\n",
    "from lfxai.models.images import (\n",
    "    VAE,\n",
    "    AutoEncoderMnist,\n",
    "    ClassifierMnist,\n",
    "    DecoderBurgess,\n",
    "    DecoderMnist,\n",
    "    EncoderBurgess,\n",
    "    EncoderMnist,\n",
    ")\n",
    "from lfxai.models.losses import BetaHLoss, BtcvaeLoss, EntropyLoss, PearsonLoss, _reconstruction_loss\n",
    "from lfxai.models.pretext import Identity, Mask, RandomNoise\n",
    "from lfxai.utils.datasets import MaskedMNIST\n",
    "from lfxai.utils.feature_attribution import generate_masks\n",
    "from lfxai.utils.metrics import (\n",
    "    compute_metrics,\n",
    "    cos_saliency,\n",
    "    count_activated_neurons,\n",
    "    entropy_saliency_tensor,\n",
    "    entropy_saliency,\n",
    "    pearson_saliency,\n",
    "    similarity_rates,\n",
    "    spearman_saliency,\n",
    "    pearson_saliency_tensor\n",
    ")\n",
    "from lfxai.utils.visualize import (\n",
    "    correlation_latex_table,\n",
    "    plot_pretext_saliencies,\n",
    "    plot_pretext_top_example,\n",
    "    plot_vae_saliencies,\n",
    "    vae_box_plots,\n",
    ")"
   ]
  },
  {
   "cell_type": "code",
   "execution_count": 373,
   "metadata": {},
   "outputs": [
    {
     "data": {
      "text/plain": [
       "<All keys matched successfully>"
      ]
     },
     "execution_count": 373,
     "metadata": {},
     "output_type": "execute_result"
    }
   ],
   "source": [
    "W = 32\n",
    "dim_latent = 3\n",
    "img_size = (1, W, W)\n",
    "base_loss = BetaHLoss()\n",
    "base_loss.beta = 1\n",
    "\n",
    "encoder_base = EncoderBurgess(img_size, dim_latent)\n",
    "decoder_base = DecoderBurgess(img_size, dim_latent)\n",
    "base_model = VAE(img_size, encoder_base, decoder_base, dim_latent, base_loss, name='base')\n",
    "base_model.load_state_dict(torch.load('experiments/results/mnist/vae/Beta-vae_beta1_run5.pt'), strict=False)"
   ]
  },
  {
   "cell_type": "code",
   "execution_count": 401,
   "metadata": {},
   "outputs": [
    {
     "data": {
      "text/plain": [
       "<All keys matched successfully>"
      ]
     },
     "execution_count": 401,
     "metadata": {},
     "output_type": "execute_result"
    }
   ],
   "source": [
    "encoder_entropy_1 = EncoderBurgess(img_size, dim_latent)\n",
    "decoder_entropy_1 = DecoderBurgess(img_size, dim_latent)\n",
    "entropy_1_model = VAE(img_size, encoder_entropy_1, decoder_entropy_1, dim_latent, base_loss, name='entropy1')\n",
    "entropy_1_model.load_state_dict(torch.load('experiments/results/mnist/entropy_vae/Entropy-vae_alpha1_run5.pt'), strict=False)"
   ]
  },
  {
   "cell_type": "code",
   "execution_count": 419,
   "metadata": {},
   "outputs": [
    {
     "data": {
      "text/plain": [
       "<All keys matched successfully>"
      ]
     },
     "execution_count": 419,
     "metadata": {},
     "output_type": "execute_result"
    }
   ],
   "source": [
    "encoder_entropy_5 = EncoderBurgess(img_size, dim_latent)\n",
    "decoder_entropy_5 = DecoderBurgess(img_size, dim_latent)\n",
    "\n",
    "entropy_5_model = VAE(img_size, encoder_entropy_5, decoder_entropy_5, dim_latent, base_loss, name='entropy5')\n",
    "entropy_5_model.load_state_dict(torch.load('experiments/results/mnist/entropy_vae/Entropy-vae_alpha5_run5.pt'), strict=False)"
   ]
  },
  {
   "cell_type": "code",
   "execution_count": 450,
   "metadata": {},
   "outputs": [
    {
     "data": {
      "text/plain": [
       "<All keys matched successfully>"
      ]
     },
     "execution_count": 450,
     "metadata": {},
     "output_type": "execute_result"
    }
   ],
   "source": [
    "encoder_pearson_1 = EncoderBurgess(img_size, dim_latent)\n",
    "decoder_pearson_1 = DecoderBurgess(img_size, dim_latent)\n",
    "pearson_1_model = VAE(img_size, encoder_pearson_1, decoder_pearson_1, dim_latent, base_loss, name='pearson1')\n",
    "pearson_1_model.load_state_dict(torch.load('experiments/results/mnist/pearson_vae/Pearson-vae_alpha1_run5.pt'), strict=False)"
   ]
  },
  {
   "cell_type": "code",
   "execution_count": 451,
   "metadata": {},
   "outputs": [
    {
     "data": {
      "text/plain": [
       "<All keys matched successfully>"
      ]
     },
     "execution_count": 451,
     "metadata": {},
     "output_type": "execute_result"
    }
   ],
   "source": [
    "encoder_pearson_5 = EncoderBurgess(img_size, dim_latent)\n",
    "decoder_pearson_5 = DecoderBurgess(img_size, dim_latent)\n",
    "pearson_5_model = VAE(img_size, encoder_pearson_5, decoder_pearson_5, dim_latent, base_loss, name='pearson5')\n",
    "pearson_5_model.load_state_dict(torch.load('experiments/results/mnist/pearson_vae/Pearson-vae_alpha5_run5.pt'), strict=False)"
   ]
  },
  {
   "cell_type": "code",
   "execution_count": 452,
   "metadata": {},
   "outputs": [
    {
     "data": {
      "text/plain": [
       "<All keys matched successfully>"
      ]
     },
     "execution_count": 452,
     "metadata": {},
     "output_type": "execute_result"
    }
   ],
   "source": [
    "encoder_pearson_10 = EncoderBurgess(img_size, dim_latent)\n",
    "decoder_pearson_10 = DecoderBurgess(img_size, dim_latent)\n",
    "pearson_10_model = VAE(img_size, encoder_pearson_10, decoder_pearson_10, dim_latent, base_loss, name='pearson10')\n",
    "pearson_10_model.load_state_dict(torch.load('experiments/results/mnist/pearson_vae/Pearson-vae_alpha10_run5.pt'), strict=False)"
   ]
  },
  {
   "cell_type": "code",
   "execution_count": 502,
   "metadata": {},
   "outputs": [
    {
     "data": {
      "text/plain": [
       "<All keys matched successfully>"
      ]
     },
     "execution_count": 502,
     "metadata": {},
     "output_type": "execute_result"
    }
   ],
   "source": [
    "encoder_total_var_5 = EncoderBurgess(img_size, dim_latent)\n",
    "decoder_total_var_5  = DecoderBurgess(img_size, dim_latent)\n",
    "total_var_5_model = VAE(img_size, encoder_total_var_5, decoder_total_var_5, dim_latent, base_loss, name='totalvar5')\n",
    "total_var_5_model.load_state_dict(torch.load('experiments/results/mnist/total_variation_vae/TotalVariation-vae_alpha0.01_run1.pt'), strict=False)"
   ]
  },
  {
   "cell_type": "code",
   "execution_count": null,
   "metadata": {},
   "outputs": [],
   "source": []
  },
  {
   "cell_type": "code",
   "execution_count": 359,
   "metadata": {},
   "outputs": [],
   "source": [
    "n = 1000\n",
    "\n",
    "test_dataset = torchvision.datasets.MNIST('experiments/data/mnist', train=False, download=True)\n",
    "test_transform = transforms.Compose([transforms.Resize(W), transforms.ToTensor()])\n",
    "test_dataset.transform = test_transform\n",
    "test_dataset.data, test_dataset.targets = test_dataset.data[[i for i in range(n)]], test_dataset.targets[[i for i in range(n)]]\n",
    "test_loader = torch.utils.data.DataLoader(test_dataset, batch_size=n, shuffle=False)"
   ]
  },
  {
   "cell_type": "code",
   "execution_count": 503,
   "metadata": {},
   "outputs": [],
   "source": [
    "for batch, _ in test_loader:\n",
    "    #base_recon_batch, _, _ = base_model.forward(batch)\n",
    "    #entropy_1_recon_batch, _, _= entropy_1_model.forward(batch)\n",
    "    #entropy_5_recon_batch, _, _= entropy_5_model.forward(batch)\n",
    "    #pearson_1_recon_batch, _, _= pearson_1_model.forward(batch)\n",
    "    #pearson_5_recon_batch, _, _= pearson_5_model.forward(batch)\n",
    "    #pearson_10_recon_batch, _, _= pearson_10_model.forward(batch)\n",
    "    total_var_5_recon_batch, _, _= total_var_5_model.forward(batch)"
   ]
  },
  {
   "cell_type": "code",
   "execution_count": 361,
   "metadata": {},
   "outputs": [],
   "source": [
    "resize = torchvision.transforms.Resize((32,32))"
   ]
  },
  {
   "cell_type": "code",
   "execution_count": 362,
   "metadata": {},
   "outputs": [],
   "source": [
    "test_images = resize(test_dataset.data[:,None,:,:]).float()/255"
   ]
  },
  {
   "cell_type": "code",
   "execution_count": 376,
   "metadata": {},
   "outputs": [
    {
     "data": {
      "text/plain": [
       "tensor(169.8100, grad_fn=<DivBackward0>)"
      ]
     },
     "execution_count": 376,
     "metadata": {},
     "output_type": "execute_result"
    }
   ],
   "source": [
    "_reconstruction_loss(test_images, base_recon_batch,distribution='bernoulli')"
   ]
  },
  {
   "cell_type": "code",
   "execution_count": 406,
   "metadata": {},
   "outputs": [
    {
     "data": {
      "text/plain": [
       "tensor(190.5219, grad_fn=<DivBackward0>)"
      ]
     },
     "execution_count": 406,
     "metadata": {},
     "output_type": "execute_result"
    }
   ],
   "source": [
    "_reconstruction_loss(test_images, entropy_1_recon_batch,distribution='bernoulli')"
   ]
  },
  {
   "cell_type": "code",
   "execution_count": 421,
   "metadata": {},
   "outputs": [
    {
     "data": {
      "text/plain": [
       "tensor(223.1816, grad_fn=<DivBackward0>)"
      ]
     },
     "execution_count": 421,
     "metadata": {},
     "output_type": "execute_result"
    }
   ],
   "source": [
    "_reconstruction_loss(test_images, entropy_5_recon_batch,distribution='bernoulli')"
   ]
  },
  {
   "cell_type": "code",
   "execution_count": 454,
   "metadata": {},
   "outputs": [
    {
     "data": {
      "text/plain": [
       "tensor(169.0853, grad_fn=<DivBackward0>)"
      ]
     },
     "execution_count": 454,
     "metadata": {},
     "output_type": "execute_result"
    }
   ],
   "source": [
    "_reconstruction_loss(test_images, pearson_1_recon_batch,distribution='bernoulli')"
   ]
  },
  {
   "cell_type": "code",
   "execution_count": 455,
   "metadata": {},
   "outputs": [
    {
     "data": {
      "text/plain": [
       "tensor(168.6233, grad_fn=<DivBackward0>)"
      ]
     },
     "execution_count": 455,
     "metadata": {},
     "output_type": "execute_result"
    }
   ],
   "source": [
    "_reconstruction_loss(test_images, pearson_5_recon_batch,distribution='bernoulli')"
   ]
  },
  {
   "cell_type": "code",
   "execution_count": 456,
   "metadata": {},
   "outputs": [
    {
     "data": {
      "text/plain": [
       "tensor(165.9091, grad_fn=<DivBackward0>)"
      ]
     },
     "execution_count": 456,
     "metadata": {},
     "output_type": "execute_result"
    }
   ],
   "source": [
    "_reconstruction_loss(test_images, pearson_10_recon_batch,distribution='bernoulli')"
   ]
  },
  {
   "cell_type": "code",
   "execution_count": 504,
   "metadata": {},
   "outputs": [
    {
     "data": {
      "text/plain": [
       "tensor(171.0531, grad_fn=<DivBackward0>)"
      ]
     },
     "execution_count": 504,
     "metadata": {},
     "output_type": "execute_result"
    }
   ],
   "source": [
    "_reconstruction_loss(test_images, total_var_5_recon_batch,distribution='bernoulli')"
   ]
  },
  {
   "cell_type": "code",
   "execution_count": null,
   "metadata": {},
   "outputs": [],
   "source": []
  },
  {
   "cell_type": "code",
   "execution_count": null,
   "metadata": {},
   "outputs": [],
   "source": []
  },
  {
   "cell_type": "code",
   "execution_count": 290,
   "metadata": {},
   "outputs": [
    {
     "data": {
      "image/png": "[encoded data removed]",
      "text/plain": [
       "<Figure size 432x288 with 1 Axes>"
      ]
     },
     "metadata": {
      "needs_background": "light"
     },
     "output_type": "display_data"
    },
    {
     "data": {
      "image/png": "[encoded data removed]",
      "text/plain": [
       "<Figure size 432x288 with 1 Axes>"
      ]
     },
     "metadata": {
      "needs_background": "light"
     },
     "output_type": "display_data"
    },
    {
     "data": {
      "image/png": "[encoded data removed]",
      "text/plain": [
       "<Figure size 432x288 with 1 Axes>"
      ]
     },
     "metadata": {
      "needs_background": "light"
     },
     "output_type": "display_data"
    },
    {
     "data": {
      "image/png": "[encoded data removed]",
      "text/plain": [
       "<Figure size 432x288 with 1 Axes>"
      ]
     },
     "metadata": {
      "needs_background": "light"
     },
     "output_type": "display_data"
    },
    {
     "data": {
      "image/png": "[encoded data removed]",
      "text/plain": [
       "<Figure size 432x288 with 1 Axes>"
      ]
     },
     "metadata": {
      "needs_background": "light"
     },
     "output_type": "display_data"
    },
    {
     "data": {
      "image/png": "[encoded data removed]",
      "text/plain": [
       "<Figure size 432x288 with 1 Axes>"
      ]
     },
     "metadata": {
      "needs_background": "light"
     },
     "output_type": "display_data"
    },
    {
     "data": {
      "image/png": "[encoded data removed]",
      "text/plain": [
       "<Figure size 432x288 with 1 Axes>"
      ]
     },
     "metadata": {
      "needs_background": "light"
     },
     "output_type": "display_data"
    },
    {
     "data": {
      "image/png": "[encoded data removed]",
      "text/plain": [
       "<Figure size 432x288 with 1 Axes>"
      ]
     },
     "metadata": {
      "needs_background": "light"
     },
     "output_type": "display_data"
    }
   ],
   "source": [
    "i=0\n",
    "\n",
    "plt.imshow(test_dataset.data[i].detach().numpy(), cmap='gray')\n",
    "plt.show()\n",
    "plt.imshow(base_recon_batch[i][0].detach().numpy(), cmap='gray')\n",
    "plt.show()\n",
    "plt.imshow(entropy_1_recon_batch[i][0].detach().numpy(), cmap='gray')\n",
    "plt.show()\n",
    "plt.imshow(entropy_5_recon_batch[i][0].detach().numpy(), cmap='gray')\n",
    "plt.show()\n",
    "plt.imshow(pearson_1_recon_batch[i][0].detach().numpy(), cmap='gray')\n",
    "plt.show()\n",
    "plt.imshow(pearson_5_recon_batch[i][0].detach().numpy(), cmap='gray')\n",
    "plt.show()\n",
    "plt.imshow(pearson_10_recon_batch[i][0].detach().numpy(), cmap='gray')\n",
    "plt.show()\n",
    "plt.imshow(total_var_5_recon_batch[i][0].detach().numpy(), cmap='gray')\n",
    "plt.show()"
   ]
  },
  {
   "cell_type": "code",
   "execution_count": 468,
   "metadata": {},
   "outputs": [],
   "source": [
    "recon_data = pd.read_csv('experiments/results/mnist/recon loss.csv')"
   ]
  },
  {
   "cell_type": "code",
   "execution_count": 480,
   "metadata": {},
   "outputs": [],
   "source": [
    "loss_means = recon_data.groupby('model').mean()"
   ]
  },
  {
   "cell_type": "code",
   "execution_count": 481,
   "metadata": {},
   "outputs": [
    {
     "data": {
      "text/html": [
       "<div>\n",
       "<style scoped>\n",
       "    .dataframe tbody tr th:only-of-type {\n",
       "        vertical-align: middle;\n",
       "    }\n",
       "\n",
       "    .dataframe tbody tr th {\n",
       "        vertical-align: top;\n",
       "    }\n",
       "\n",
       "    .dataframe thead th {\n",
       "        text-align: right;\n",
       "    }\n",
       "</style>\n",
       "<table border=\"1\" class=\"dataframe\">\n",
       "  <thead>\n",
       "    <tr style=\"text-align: right;\">\n",
       "      <th></th>\n",
       "      <th>run</th>\n",
       "      <th>recon_loss</th>\n",
       "    </tr>\n",
       "    <tr>\n",
       "      <th>model</th>\n",
       "      <th></th>\n",
       "      <th></th>\n",
       "    </tr>\n",
       "  </thead>\n",
       "  <tbody>\n",
       "    <tr>\n",
       "      <th>base</th>\n",
       "      <td>3.0</td>\n",
       "      <td>168.97132</td>\n",
       "    </tr>\n",
       "    <tr>\n",
       "      <th>entropy_0_5</th>\n",
       "      <td>3.0</td>\n",
       "      <td>174.99134</td>\n",
       "    </tr>\n",
       "    <tr>\n",
       "      <th>entropy_1</th>\n",
       "      <td>3.0</td>\n",
       "      <td>203.38850</td>\n",
       "    </tr>\n",
       "    <tr>\n",
       "      <th>entropy_5</th>\n",
       "      <td>3.0</td>\n",
       "      <td>226.49018</td>\n",
       "    </tr>\n",
       "    <tr>\n",
       "      <th>pearson_1</th>\n",
       "      <td>3.0</td>\n",
       "      <td>168.55562</td>\n",
       "    </tr>\n",
       "    <tr>\n",
       "      <th>pearson_10</th>\n",
       "      <td>3.0</td>\n",
       "      <td>167.44784</td>\n",
       "    </tr>\n",
       "    <tr>\n",
       "      <th>pearson_5</th>\n",
       "      <td>3.0</td>\n",
       "      <td>168.09828</td>\n",
       "    </tr>\n",
       "  </tbody>\n",
       "</table>\n",
       "</div>"
      ],
      "text/plain": [
       "             run  recon_loss\n",
       "model                       \n",
       "base         3.0   168.97132\n",
       "entropy_0_5  3.0   174.99134\n",
       "entropy_1    3.0   203.38850\n",
       "entropy_5    3.0   226.49018\n",
       "pearson_1    3.0   168.55562\n",
       "pearson_10   3.0   167.44784\n",
       "pearson_5    3.0   168.09828"
      ]
     },
     "execution_count": 481,
     "metadata": {},
     "output_type": "execute_result"
    }
   ],
   "source": [
    "loss_means"
   ]
  },
  {
   "cell_type": "code",
   "execution_count": 495,
   "metadata": {},
   "outputs": [
    {
     "data": {
      "text/html": [
       "<div>\n",
       "<style scoped>\n",
       "    .dataframe tbody tr th:only-of-type {\n",
       "        vertical-align: middle;\n",
       "    }\n",
       "\n",
       "    .dataframe tbody tr th {\n",
       "        vertical-align: top;\n",
       "    }\n",
       "\n",
       "    .dataframe thead th {\n",
       "        text-align: right;\n",
       "    }\n",
       "</style>\n",
       "<table border=\"1\" class=\"dataframe\">\n",
       "  <thead>\n",
       "    <tr style=\"text-align: right;\">\n",
       "      <th></th>\n",
       "      <th>run</th>\n",
       "      <th>recon_loss</th>\n",
       "      <th>model</th>\n",
       "    </tr>\n",
       "    <tr>\n",
       "      <th>model</th>\n",
       "      <th></th>\n",
       "      <th></th>\n",
       "      <th></th>\n",
       "    </tr>\n",
       "  </thead>\n",
       "  <tbody>\n",
       "    <tr>\n",
       "      <th>base</th>\n",
       "      <td>3.0</td>\n",
       "      <td>168.97132</td>\n",
       "      <td>0.0</td>\n",
       "    </tr>\n",
       "    <tr>\n",
       "      <th>entropy_0_5</th>\n",
       "      <td>3.0</td>\n",
       "      <td>174.99134</td>\n",
       "      <td>0.5</td>\n",
       "    </tr>\n",
       "    <tr>\n",
       "      <th>entropy_1</th>\n",
       "      <td>3.0</td>\n",
       "      <td>203.38850</td>\n",
       "      <td>1.0</td>\n",
       "    </tr>\n",
       "    <tr>\n",
       "      <th>entropy_5</th>\n",
       "      <td>3.0</td>\n",
       "      <td>226.49018</td>\n",
       "      <td>5.0</td>\n",
       "    </tr>\n",
       "  </tbody>\n",
       "</table>\n",
       "</div>"
      ],
      "text/plain": [
       "             run  recon_loss  model\n",
       "model                              \n",
       "base         3.0   168.97132    0.0\n",
       "entropy_0_5  3.0   174.99134    0.5\n",
       "entropy_1    3.0   203.38850    1.0\n",
       "entropy_5    3.0   226.49018    5.0"
      ]
     },
     "execution_count": 495,
     "metadata": {},
     "output_type": "execute_result"
    }
   ],
   "source": [
    "entropy_losses\n"
   ]
  },
  {
   "cell_type": "code",
   "execution_count": 505,
   "metadata": {},
   "outputs": [
    {
     "name": "stderr",
     "output_type": "stream",
     "text": [
      "/Library/Frameworks/Python.framework/Versions/3.8/lib/python3.8/site-packages/pandas/core/indexing.py:1667: SettingWithCopyWarning: \n",
      "A value is trying to be set on a copy of a slice from a DataFrame.\n",
      "Try using .loc[row_indexer,col_indexer] = value instead\n",
      "\n",
      "See the caveats in the documentation: https://pandas.pydata.org/pandas-docs/stable/user_guide/indexing.html#returning-a-view-versus-a-copy\n",
      "  self.obj[key] = value\n"
     ]
    },
    {
     "data": {
      "image/png": "[encoded data removed]",
      "text/plain": [
       "<Figure size 432x288 with 1 Axes>"
      ]
     },
     "metadata": {
      "needs_background": "light"
     },
     "output_type": "display_data"
    }
   ],
   "source": [
    "entropy_losses = loss_means.iloc[[0,1,2,3], :]\n",
    "entropy_losses.loc[:, 'model'] = [0,0.5,1,5]\n",
    "entropy_losses = entropy_losses.set_index('model')\n",
    "\n",
    "plt.plot(entropy_losses['recon_loss'])\n",
    "plt.xlabel('Lambda')\n",
    "plt.ylabel('Reconstruction Loss')\n",
    "plt.savefig('experiments/results/mnist/entropy_recon_loss.pdf')"
   ]
  },
  {
   "cell_type": "code",
   "execution_count": 506,
   "metadata": {},
   "outputs": [
    {
     "name": "stderr",
     "output_type": "stream",
     "text": [
      "/Library/Frameworks/Python.framework/Versions/3.8/lib/python3.8/site-packages/pandas/core/indexing.py:1667: SettingWithCopyWarning: \n",
      "A value is trying to be set on a copy of a slice from a DataFrame.\n",
      "Try using .loc[row_indexer,col_indexer] = value instead\n",
      "\n",
      "See the caveats in the documentation: https://pandas.pydata.org/pandas-docs/stable/user_guide/indexing.html#returning-a-view-versus-a-copy\n",
      "  self.obj[key] = value\n"
     ]
    },
    {
     "data": {
      "image/png": "[encoded data removed]",
      "text/plain": [
       "<Figure size 432x288 with 1 Axes>"
      ]
     },
     "metadata": {
      "needs_background": "light"
     },
     "output_type": "display_data"
    }
   ],
   "source": [
    "pearson_losses = loss_means.iloc[[0,4,6,5], :]\n",
    "pearson_losses.loc[:, 'model'] = [0,1,5,10]\n",
    "pearson_losses = pearson_losses.set_index('model')\n",
    "\n",
    "plt.plot(pearson_losses['recon_loss'])\n",
    "plt.xlabel('Lambda')\n",
    "plt.ylabel('Reconstruction Loss')\n",
    "plt.savefig('experiments/results/mnist/pearson_recon_loss.pdf')"
   ]
  },
  {
   "cell_type": "code",
   "execution_count": null,
   "metadata": {},
   "outputs": [],
   "source": []
  }
 ],
 "metadata": {
  "kernelspec": {
   "display_name": "Python 3",
   "language": "python",
   "name": "python3"
  },
  "language_info": {
   "codemirror_mode": {
    "name": "ipython",
    "version": 3
   },
   "file_extension": ".py",
   "mimetype": "text/x-python",
   "name": "python",
   "nbconvert_exporter": "python",
   "pygments_lexer": "ipython3",
   "version": "3.8.2"
  }
 },
 "nbformat": 4,
 "nbformat_minor": 2
}
